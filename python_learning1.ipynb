{
 "cells": [
  {
   "cell_type": "code",
   "execution_count": 118,
   "metadata": {},
   "outputs": [
    {
     "name": "stdout",
     "output_type": "stream",
     "text": [
      "hellow world\n"
     ]
    }
   ],
   "source": [
    "print(\"hellow world\")"
   ]
  },
  {
   "cell_type": "markdown",
   "metadata": {},
   "source": [
    "Data types :::::\n",
    "1.list\n",
    "2.dictonary \n",
    "3.tuple\n",
    "4.sets\n",
    "5.bool\n",
    "6.int\n",
    "7.float\n",
    "8.str\n"
   ]
  },
  {
   "cell_type": "markdown",
   "metadata": {},
   "source": [
    "1,list"
   ]
  },
  {
   "cell_type": "code",
   "execution_count": 119,
   "metadata": {},
   "outputs": [
    {
     "data": {
      "text/plain": [
       "3"
      ]
     },
     "execution_count": 119,
     "metadata": {},
     "output_type": "execute_result"
    }
   ],
   "source": [
    "7 % 4\n",
    "# 4 divide by 7 reminder is 3"
   ]
  },
  {
   "cell_type": "code",
   "execution_count": 120,
   "metadata": {},
   "outputs": [
    {
     "data": {
      "text/plain": [
       "0"
      ]
     },
     "execution_count": 120,
     "metadata": {},
     "output_type": "execute_result"
    }
   ],
   "source": [
    "50 % 5 \n"
   ]
  },
  {
   "cell_type": "code",
   "execution_count": 121,
   "metadata": {},
   "outputs": [
    {
     "data": {
      "text/plain": [
       "0"
      ]
     },
     "execution_count": 121,
     "metadata": {},
     "output_type": "execute_result"
    }
   ],
   "source": [
    "# even or or\n",
    "\n",
    "23 % 2\n",
    "22 %2 "
   ]
  },
  {
   "cell_type": "code",
   "execution_count": 122,
   "metadata": {},
   "outputs": [
    {
     "data": {
      "text/plain": [
       "16"
      ]
     },
     "execution_count": 122,
     "metadata": {},
     "output_type": "execute_result"
    }
   ],
   "source": [
    "2#power \n",
    "# 2 rais to 4\n",
    "\n",
    "2**4"
   ]
  },
  {
   "cell_type": "code",
   "execution_count": 123,
   "metadata": {},
   "outputs": [
    {
     "data": {
      "text/plain": [
       "11"
      ]
     },
     "execution_count": 123,
     "metadata": {},
     "output_type": "execute_result"
    }
   ],
   "source": [
    "2 + 3  * 3"
   ]
  },
  {
   "cell_type": "code",
   "execution_count": 124,
   "metadata": {},
   "outputs": [
    {
     "data": {
      "text/plain": [
       "220"
      ]
     },
     "execution_count": 124,
     "metadata": {},
     "output_type": "execute_result"
    }
   ],
   "source": [
    "a = 110\n",
    "a + a"
   ]
  },
  {
   "cell_type": "code",
   "execution_count": 125,
   "metadata": {},
   "outputs": [
    {
     "data": {
      "text/plain": [
       "int"
      ]
     },
     "execution_count": 125,
     "metadata": {},
     "output_type": "execute_result"
    }
   ],
   "source": [
    "type(a)"
   ]
  },
  {
   "cell_type": "code",
   "execution_count": 126,
   "metadata": {},
   "outputs": [],
   "source": [
    "a = 10\n"
   ]
  },
  {
   "cell_type": "markdown",
   "metadata": {},
   "source": [
    "String operations"
   ]
  },
  {
   "cell_type": "code",
   "execution_count": 127,
   "metadata": {},
   "outputs": [
    {
     "name": "stdout",
     "output_type": "stream",
     "text": [
      "iaha\n"
     ]
    }
   ],
   "source": [
    "name = \"avinashjadhav\"\n",
    "\n",
    "print(name[2:10:2])"
   ]
  },
  {
   "cell_type": "code",
   "execution_count": 128,
   "metadata": {},
   "outputs": [
    {
     "data": {
      "text/plain": [
       "-1"
      ]
     },
     "execution_count": 128,
     "metadata": {},
     "output_type": "execute_result"
    }
   ],
   "source": [
    "name.find('nsh')"
   ]
  },
  {
   "cell_type": "code",
   "execution_count": 129,
   "metadata": {},
   "outputs": [
    {
     "data": {
      "text/plain": [
       "True"
      ]
     },
     "execution_count": 129,
     "metadata": {},
     "output_type": "execute_result"
    }
   ],
   "source": [
    "\"jad\" in name"
   ]
  },
  {
   "cell_type": "code",
   "execution_count": 130,
   "metadata": {},
   "outputs": [
    {
     "data": {
      "text/plain": [
       "'aiahahv'"
      ]
     },
     "execution_count": 130,
     "metadata": {},
     "output_type": "execute_result"
    }
   ],
   "source": [
    "name[::2]"
   ]
  },
  {
   "cell_type": "code",
   "execution_count": 131,
   "metadata": {},
   "outputs": [
    {
     "data": {
      "text/plain": [
       "2"
      ]
     },
     "execution_count": 131,
     "metadata": {},
     "output_type": "execute_result"
    }
   ],
   "source": [
    "name.count('v')"
   ]
  },
  {
   "cell_type": "code",
   "execution_count": 132,
   "metadata": {},
   "outputs": [
    {
     "ename": "AttributeError",
     "evalue": "'str' object has no attribute 'append'",
     "output_type": "error",
     "traceback": [
      "\u001b[0;31m---------------------------------------------------------------------------\u001b[0m",
      "\u001b[0;31mAttributeError\u001b[0m                            Traceback (most recent call last)",
      "\u001b[0;32m/tmp/ipykernel_17968/158958074.py\u001b[0m in \u001b[0;36m<module>\u001b[0;34m\u001b[0m\n\u001b[0;32m----> 1\u001b[0;31m \u001b[0mname\u001b[0m\u001b[0;34m[\u001b[0m\u001b[0;36m1\u001b[0m\u001b[0;34m]\u001b[0m\u001b[0;34m.\u001b[0m\u001b[0mappend\u001b[0m\u001b[0;34m(\u001b[0m\u001b[0;34m\"L\"\u001b[0m\u001b[0;34m)\u001b[0m\u001b[0;34m\u001b[0m\u001b[0;34m\u001b[0m\u001b[0m\n\u001b[0m",
      "\u001b[0;31mAttributeError\u001b[0m: 'str' object has no attribute 'append'"
     ]
    }
   ],
   "source": [
    "name[1].append(\"L\") "
   ]
  },
  {
   "cell_type": "code",
   "execution_count": null,
   "metadata": {},
   "outputs": [
    {
     "name": "stdout",
     "output_type": "stream",
     "text": [
      "r\n"
     ]
    }
   ],
   "source": [
    "index = 8\n",
    "strings = \"Hello World\"\n",
    "print(strings[index])"
   ]
  },
  {
   "cell_type": "code",
   "execution_count": null,
   "metadata": {},
   "outputs": [
    {
     "name": "stdout",
     "output_type": "stream",
     "text": [
      "r\n"
     ]
    }
   ],
   "source": [
    "print(\"Hello World\"[8])"
   ]
  },
  {
   "cell_type": "code",
   "execution_count": null,
   "metadata": {},
   "outputs": [
    {
     "name": "stdout",
     "output_type": "stream",
     "text": [
      "cat\n"
     ]
    }
   ],
   "source": [
    "print(\"education\"[3:6])"
   ]
  },
  {
   "cell_type": "code",
   "execution_count": null,
   "metadata": {},
   "outputs": [
    {
     "data": {
      "text/plain": [
       "'jadhav'"
      ]
     },
     "execution_count": 61,
     "metadata": {},
     "output_type": "execute_result"
    }
   ],
   "source": [
    "last_letter = name[7:]\n",
    "last_letter"
   ]
  },
  {
   "cell_type": "code",
   "execution_count": null,
   "metadata": {},
   "outputs": [],
   "source": [
    "first_name = \"ganesh\"\n",
    "name = first_name + last_letter"
   ]
  },
  {
   "cell_type": "code",
   "execution_count": null,
   "metadata": {},
   "outputs": [
    {
     "data": {
      "text/plain": [
       "'ganeshjadhav'"
      ]
     },
     "execution_count": 63,
     "metadata": {},
     "output_type": "execute_result"
    }
   ],
   "source": [
    "name"
   ]
  },
  {
   "cell_type": "code",
   "execution_count": null,
   "metadata": {},
   "outputs": [
    {
     "data": {
      "text/plain": [
       "'i/am/NOTgood/boy'"
      ]
     },
     "execution_count": 79,
     "metadata": {},
     "output_type": "execute_result"
    }
   ],
   "source": [
    "str_a = \"i/am/good/boy\"\n",
    "\n",
    "sub1 = str_a[:5]\n",
    "new_str = 'NOT'\n",
    "sub2 = str_a[5:]\n",
    "final_s = sub1 + new_str + sub2\n",
    "final_s"
   ]
  },
  {
   "cell_type": "code",
   "execution_count": null,
   "metadata": {},
   "outputs": [
    {
     "data": {
      "text/plain": [
       "'I AM NOT GOOD BOY'"
      ]
     },
     "execution_count": 70,
     "metadata": {},
     "output_type": "execute_result"
    }
   ],
   "source": [
    "final_s.upper()"
   ]
  },
  {
   "cell_type": "code",
   "execution_count": null,
   "metadata": {},
   "outputs": [
    {
     "data": {
      "text/plain": [
       "'i am not good boy'"
      ]
     },
     "execution_count": 71,
     "metadata": {},
     "output_type": "execute_result"
    }
   ],
   "source": [
    "final_s.lower()"
   ]
  },
  {
   "cell_type": "code",
   "execution_count": null,
   "metadata": {},
   "outputs": [
    {
     "data": {
      "text/plain": [
       "'i am NOT good boy'"
      ]
     },
     "execution_count": 74,
     "metadata": {},
     "output_type": "execute_result"
    }
   ],
   "source": [
    "final_s"
   ]
  },
  {
   "cell_type": "code",
   "execution_count": null,
   "metadata": {},
   "outputs": [
    {
     "data": {
      "text/plain": [
       "False"
      ]
     },
     "execution_count": 76,
     "metadata": {},
     "output_type": "execute_result"
    }
   ],
   "source": [
    "final_s.isspace()"
   ]
  },
  {
   "cell_type": "code",
   "execution_count": null,
   "metadata": {},
   "outputs": [
    {
     "data": {
      "text/plain": [
       "['i/am/NOTg', '', 'd/b', 'y']"
      ]
     },
     "execution_count": 85,
     "metadata": {},
     "output_type": "execute_result"
    }
   ],
   "source": [
    "final_s.split('o')"
   ]
  },
  {
   "cell_type": "code",
   "execution_count": null,
   "metadata": {},
   "outputs": [
    {
     "name": "stdout",
     "output_type": "stream",
     "text": [
      "my str is abcdefghijak and name is 24 here it is tored AVII\n"
     ]
    }
   ],
   "source": [
    "s = \"abcdefghijak\"\n",
    "r = 22 +2\n",
    "print(\"my str is {} and name is {} here it is tored {1}\".format(s,\"AVII\",r))"
   ]
  },
  {
   "cell_type": "code",
   "execution_count": null,
   "metadata": {},
   "outputs": [
    {
     "name": "stdout",
     "output_type": "stream",
     "text": [
      "my str is 24 and name is AVII here it is tored abcdefghijak\n"
     ]
    }
   ],
   "source": [
    "s = \"abcdefghijak\"\n",
    "r = 22 +2\n",
    "print(\"my str is {2} and name is {1} here it is tored {0}\".format(s,\"AVII\",r))"
   ]
  },
  {
   "cell_type": "code",
   "execution_count": null,
   "metadata": {},
   "outputs": [
    {
     "name": "stdout",
     "output_type": "stream",
     "text": [
      "my str is 24 and name is abcdefghijak here it is tored AVII\n"
     ]
    }
   ],
   "source": [
    "s = \"abcdefghijak\"\n",
    "r = 22 +2\n",
    "print(\"my str is {ran} and name is {l} here it is tored {name}\".format(l=s,name=\"AVII\",ran=r))"
   ]
  },
  {
   "cell_type": "code",
   "execution_count": null,
   "metadata": {},
   "outputs": [
    {
     "data": {
      "text/plain": [
       "0.1287001287001287"
      ]
     },
     "execution_count": 98,
     "metadata": {},
     "output_type": "execute_result"
    }
   ],
   "source": [
    "\n",
    "res = 100/777\n",
    "\n",
    "res"
   ]
  },
  {
   "cell_type": "code",
   "execution_count": null,
   "metadata": {},
   "outputs": [
    {
     "name": "stdout",
     "output_type": "stream",
     "text": [
      "the result was 0.12870\n"
     ]
    }
   ],
   "source": [
    "print(\"the result was {:1.5f}\".format(res))"
   ]
  },
  {
   "cell_type": "code",
   "execution_count": null,
   "metadata": {},
   "outputs": [
    {
     "name": "stdout",
     "output_type": "stream",
     "text": [
      "my results is 111234.99985\n"
     ]
    }
   ],
   "source": [
    "res1 = 111234.999849348934\n",
    "\n",
    "print(\"my results is {d:10.5f}\".format(d =res1))"
   ]
  },
  {
   "cell_type": "code",
   "execution_count": null,
   "metadata": {},
   "outputs": [
    {
     "name": "stdout",
     "output_type": "stream",
     "text": [
      "my name is akash abcdefghijak\n"
     ]
    }
   ],
   "source": [
    "name1 = \"akash\"\n",
    "\n",
    "print(f\"my name is {name1} {s}\")"
   ]
  },
  {
   "cell_type": "code",
   "execution_count": null,
   "metadata": {},
   "outputs": [
    {
     "name": "stdout",
     "output_type": "stream",
     "text": [
      "Hellow World\n"
     ]
    }
   ],
   "source": [
    "#practise program \n",
    "\n",
    "str1= \"Hellow World\"\n",
    "print(str1)"
   ]
  },
  {
   "cell_type": "code",
   "execution_count": null,
   "metadata": {},
   "outputs": [
    {
     "name": "stdout",
     "output_type": "stream",
     "text": [
      "None\n"
     ]
    }
   ],
   "source": [
    "import os \n",
    "os.listdir(path=\"/home/avi/Downloads/negative/\")\n",
    "path = \"/home/avi/Downloads/negative/\"\n",
    "os.getcwd()\n",
    "print(os.chdir(path))"
   ]
  },
  {
   "cell_type": "code",
   "execution_count": null,
   "metadata": {},
   "outputs": [
    {
     "name": "stdout",
     "output_type": "stream",
     "text": [
      "4\n"
     ]
    },
    {
     "data": {
      "text/plain": [
       "'2ed~$Ftc=q?xP(jK'"
      ]
     },
     "execution_count": 39,
     "metadata": {},
     "output_type": "execute_result"
    }
   ],
   "source": [
    "import random\n",
    "import string \n",
    "\n",
    "total = string.ascii_letters + string.digits + string.punctuation\n",
    "length = 16\n",
    "number = \"\".join(random.sample(total,length))\n",
    "\n",
    "print(random.randint(1,5))\n",
    "\n",
    "number"
   ]
  },
  {
   "cell_type": "code",
   "execution_count": null,
   "metadata": {},
   "outputs": [
    {
     "name": "stdout",
     "output_type": "stream",
     "text": [
      "0.3355184652402069\n"
     ]
    }
   ],
   "source": [
    "print(random.random())"
   ]
  },
  {
   "cell_type": "code",
   "execution_count": null,
   "metadata": {},
   "outputs": [
    {
     "name": "stdout",
     "output_type": "stream",
     "text": [
      "[2, 6, 8, 8, 3, 3, 4, 3, 4, 1]\n"
     ]
    }
   ],
   "source": [
    "lst = []\n",
    "for i in range(0,10):\n",
    "    lst.append(random.randint(1,10))\n",
    "print(lst)"
   ]
  },
  {
   "cell_type": "code",
   "execution_count": null,
   "metadata": {},
   "outputs": [
    {
     "data": {
      "text/plain": [
       "24.452890723005112"
      ]
     },
     "execution_count": 50,
     "metadata": {},
     "output_type": "execute_result"
    }
   ],
   "source": [
    "rand_lst = random.uniform(10.2,50.3)\n",
    "rand_lst"
   ]
  },
  {
   "cell_type": "code",
   "execution_count": null,
   "metadata": {},
   "outputs": [
    {
     "name": "stdout",
     "output_type": "stream",
     "text": [
      "tr81E\n"
     ]
    }
   ],
   "source": [
    "tot = string.ascii_letters  + string.digits + string.punctuation\n",
    "sizee = 5\n",
    "\n",
    "password = \"\".join(random.sample(tot,sizee))\n",
    "print(password)\n",
    "\n"
   ]
  },
  {
   "cell_type": "code",
   "execution_count": null,
   "metadata": {},
   "outputs": [
    {
     "name": "stdout",
     "output_type": "stream",
     "text": [
      "8\n",
      "0\n",
      "12\n",
      "14\n",
      "10\n",
      "3\n",
      "14\n",
      "13\n",
      "19\n",
      "22\n",
      "14\n",
      "17\n",
      "17\n",
      "24\n"
     ]
    }
   ],
   "source": [
    "\n",
    "messsage = \"abcdefghijklmnopqrstuvwxyz\"\n",
    "key = 3\n",
    "\n",
    "my_message = \"iamokdontworry\"\n",
    "\n",
    "new_msg = \"\"\n",
    "\n",
    "for i in my_message:\n",
    "    pos = messsage.find(i)\n",
    "    newpos= (pos + key ) % 26"
   ]
  },
  {
   "cell_type": "code",
   "execution_count": null,
   "metadata": {},
   "outputs": [
    {
     "name": "stdout",
     "output_type": "stream",
     "text": [
      "zvCWLxomdgKbXe0k\n"
     ]
    }
   ],
   "source": [
    "#16 digitpassword Generation\n",
    "\n",
    "import random\n",
    "import string\n",
    "string_pass =  string.ascii_letters + string.digits\n",
    "length = 16\n",
    "password = \"\".join(random.sample(string_pass,length))\n",
    "\n",
    "print(password)"
   ]
  },
  {
   "cell_type": "code",
   "execution_count": null,
   "metadata": {},
   "outputs": [
    {
     "name": "stdout",
     "output_type": "stream",
     "text": [
      "52\n",
      "ldpjrrgkrzux\n",
      "iamgoodhowru\n"
     ]
    }
   ],
   "source": [
    "#encryption\n",
    "import string\n",
    "alpha = string.ascii_lowercase+string.ascii_uppercase\n",
    "print(len(alpha))\n",
    "key = 3\n",
    "mesage = \"iamgoodhowru\"\n",
    "finals1 = \"\"\n",
    "final = \"\"\n",
    "\n",
    "for n_a in mesage:\n",
    "    np = alpha.find(n_a)\n",
    "    # print (np)\n",
    "    enc = np + key % 52\n",
    "    # print(np)\n",
    "    nc = alpha[enc]\n",
    "    finals1 += nc\n",
    "print(finals1)\n",
    "\n",
    "#decryption \n",
    "\n",
    "key = 3 \n",
    "for n_a in finals1:\n",
    "    np = alpha.find(n_a)\n",
    "    # print (np)\n",
    "    enc = np - key % 52\n",
    "    # print(np)\n",
    "    nc = alpha[enc]\n",
    "    finals += nc\n",
    "print(finals)\n",
    "    \n",
    "\n"
   ]
  },
  {
   "cell_type": "code",
   "execution_count": null,
   "metadata": {},
   "outputs": [
    {
     "data": {
      "text/plain": [
       "['conda-cheatsheet.pdf',\n",
       " 'final_objdetection_project',\n",
       " '1626967-ECard.pdf',\n",
       " 'Avinash_jadhav_42144401 (CV)f1.docx',\n",
       " 'avi (2).gif',\n",
       " '7042762289_480202639_12_2022.pdf',\n",
       " 'Basic Understanding of how Video Stabilizer works.mp4',\n",
       " '20210721-1_1080p.mp4',\n",
       " 'Ml_pros',\n",
       " 'wp1.png',\n",
       " 'yolov7.pt',\n",
       " 'avi (7).gif',\n",
       " 'Avinash_jadhav_42144401 (CV) - Copy.docx',\n",
       " 'onnx2keras.html',\n",
       " 'tensorflow_p',\n",
       " 'Avinash_jadhav_42144401 (CV) - Copy (1).docx',\n",
       " 'identifier.html',\n",
       " 'amazon-keys',\n",
       " 'avi (1).gif',\n",
       " 'AWS-IOT-Integration-for-Object-Detection-using-CM2290-on-Android-main.zip',\n",
       " 'avi (3).gif',\n",
       " 'Efficientdet_2.zip',\n",
       " 'snpe-conversions',\n",
       " 'avi.gif',\n",
       " '42144401 (1).pdf',\n",
       " 'AWS kinesis vide streaming',\n",
       " 'xz2lR.png',\n",
       " 'TDK Mezzanine.docx',\n",
       " '58df400f81967163ed67.mp4',\n",
       " 'TDK Mezzanine Boards Sensors.pptx',\n",
       " 'office_work',\n",
       " 'C1_W3_Logistic_Regression.ipynb',\n",
       " '.~lock.Avinash_jadhav_42144401 (CV)f1.docx#',\n",
       " 'avi (5).gif',\n",
       " 'ezgif.com-gif-maker.gif',\n",
       " 'wp.png',\n",
       " 'Avinash_jadhav_42144401 (CV)f1 (1).docx',\n",
       " 'avi (4).gif',\n",
       " 'avi (6).gif',\n",
       " 'avi (8).gif',\n",
       " 'Untitled.mp4',\n",
       " 'yolov7x.pt',\n",
       " '42144401.pdf']"
      ]
     },
     "execution_count": 102,
     "metadata": {},
     "output_type": "execute_result"
    }
   ],
   "source": [
    "#bulk rename the files from working dicto\n",
    "\n",
    "import os \n",
    "\n",
    "path = os.getcwdb()\n",
    "path1 = os.listdir()\n",
    "\n",
    "for filename in os.listdir():\n",
    "    mydest  = +"
   ]
  },
  {
   "cell_type": "code",
   "execution_count": null,
   "metadata": {},
   "outputs": [],
   "source": [
    "name = input(\"what is ur name :\")\n",
    "print(f\"Good luck ! {name}\")\n",
    "\n",
    "words = [\"blueberry\", \"grape\", \"apple\", \"mango\", \"watermellon\"]\n",
    "\n",
    "word = random.choice(words)\n",
    "print(\"guess the character\")\n",
    "print(word)\n",
    "\n",
    "guesses = \"\"\n",
    "changes = 12\n",
    "\n",
    "\n",
    "while changes >= 0:\n",
    "    print(word)\n",
    "    failed = 0\n",
    "    for char in guesses:\n",
    "        print(char)\n",
    "    else:\n",
    "        print(\"_\")\n",
    "        failed += 1\n",
    "\n",
    "    if failed == 0:\n",
    "        print(\"you win\")\n",
    "\n",
    "        print(\"This word is \", word)\n",
    "        break\n",
    "    guess = input(\"Enter ur word\")\n",
    "    guesses +=  guess\n",
    "    \n",
    "\n",
    "    if guess not in word:\n",
    "        changes -= 1\n",
    "        print(\"Wrong\")\n",
    "\n",
    "        print(\"You have\", + changes, \"more guesses\")\n",
    "\n",
    "        if changes == 0:\n",
    "            print(\"You Loose\")\n",
    "\n",
    "\n",
    "\n",
    "\n",
    "\n",
    "\n",
    "\n",
    "\n"
   ]
  },
  {
   "cell_type": "code",
   "execution_count": null,
   "metadata": {},
   "outputs": [],
   "source": [
    "print(\"dddd\")"
   ]
  },
  {
   "cell_type": "code",
   "execution_count": 3,
   "metadata": {},
   "outputs": [
    {
     "name": "stdout",
     "output_type": "stream",
     "text": [
      "['Anne', 'Hannah', 'Gemma', 'Sandra', 'Jane', 'Paul']\n"
     ]
    }
   ],
   "source": [
    "#string reverse \n",
    "\n",
    "names = ['Paul', 'Jane', 'Sandra', 'Gemma', 'Hannah', 'Anne']\n",
    "names.reverse()\n",
    "print(names)\n"
   ]
  },
  {
   "cell_type": "code",
   "execution_count": 4,
   "metadata": {},
   "outputs": [
    {
     "name": "stdout",
     "output_type": "stream",
     "text": [
      "ahar\n"
     ]
    }
   ],
   "source": [
    "#reverse string \n",
    "\n",
    "name = \"raha\"\n",
    "\n",
    "print(name[::-1])"
   ]
  },
  {
   "cell_type": "code",
   "execution_count": 6,
   "metadata": {},
   "outputs": [
    {
     "name": "stdout",
     "output_type": "stream",
     "text": [
      "mnia\n"
     ]
    }
   ],
   "source": [
    "#characterwise reverse\n",
    "name = \"my name is avi\"\n",
    "new_gen =\"\"\n",
    "str_split = name.split()\n",
    "\n",
    "for i in range(len(str_split)):\n",
    "    gen = str_split[i]\n",
    "    new_gen += gen[0]\n",
    "print(new_gen)"
   ]
  },
  {
   "cell_type": "code",
   "execution_count": 11,
   "metadata": {},
   "outputs": [
    {
     "name": "stdout",
     "output_type": "stream",
     "text": [
      "Yesterday a rabbit Carmel Scotland cinema made a lot of friends\n"
     ]
    }
   ],
   "source": [
    "#Assign a list of a part of the story to a variable\n",
    "import random\n",
    "when = ['A few years ago', 'Yesterday', 'Last night', 'A long time ago','On 1st Jan', 'Once upon a time', 'Before man walked the earth']\n",
    "who = ['a rabbit', 'an elephant', 'a mouse', 'a turtle','a cat', 'a chicken', 'a butterfly', 'an ant']\n",
    "name = ['Natasha', 'Ben', 'Casandra', 'Emily', 'Sam', 'George', 'Carmel']\n",
    "residence = ['Spain','Russia', 'Germany', 'Venice', 'England', 'Ireland', 'Scotland', 'Wales', 'France', 'Italy', 'Austria']\n",
    "went = ['cinema', 'laundry', 'party', 'mountains', 'lake', 'funfare', 'circus', 'zoo']\n",
    "happened = ['made a lot of friends','Eats a burger', 'found a secret key', 'solved a mistery', 'wrote a book']\n",
    "\n",
    "\n",
    "print(random.choice(when),random.choice(who),random.choice(name),random.choice(residence),random.choice(went),random.choice(happened))"
   ]
  },
  {
   "cell_type": "code",
   "execution_count": 20,
   "metadata": {},
   "outputs": [
    {
     "name": "stdout",
     "output_type": "stream",
     "text": [
      "ym eman si iva \n"
     ]
    }
   ],
   "source": [
    "#flip my name\n",
    "name = \"my name is avi\"\n",
    "var =\"\"\n",
    "\n",
    "splt_name = name.split()\n",
    "\n",
    "for i in range(len(splt_name)):\n",
    "    temp = splt_name[i]\n",
    "    temp = temp[::-1]\n",
    "    \n",
    "    var += temp+\" \" \n",
    "\n",
    "print(var)\n"
   ]
  },
  {
   "cell_type": "code",
   "execution_count": 34,
   "metadata": {},
   "outputs": [
    {
     "name": "stdout",
     "output_type": "stream",
     "text": [
      "havAvinash jad\n"
     ]
    }
   ],
   "source": [
    "#rotate my name from right side\n",
    "\n",
    "name = \"Avinash jadhav\"\n",
    "\n",
    "print(name[-3:] + name[:-3])\n"
   ]
  },
  {
   "cell_type": "code",
   "execution_count": 35,
   "metadata": {},
   "outputs": [
    {
     "name": "stdout",
     "output_type": "stream",
     "text": [
      "nash jadhavAvi\n"
     ]
    }
   ],
   "source": [
    "#rorate my name from left side \n",
    "name = \"Avinash jadhav\"\n",
    "\n",
    "print(name[3:]+name[:3])"
   ]
  },
  {
   "cell_type": "code",
   "execution_count": 39,
   "metadata": {},
   "outputs": [
    {
     "name": "stdout",
     "output_type": "stream",
     "text": [
      "123489999999\n",
      "['avi', 'is', 'my', 'name']\n"
     ]
    }
   ],
   "source": [
    "#sort a string \n",
    "\n",
    "name = \"my name is avi\"\n",
    "number = \"129999998943\"\n",
    "\n",
    "print(\"\".join(sorted(number)) )\n",
    "\n",
    "#sort string\n",
    "\n",
    "print(sorted(name.split()))\n"
   ]
  },
  {
   "cell_type": "code",
   "execution_count": 42,
   "metadata": {},
   "outputs": [
    {
     "name": "stdout",
     "output_type": "stream",
     "text": [
      "True\n"
     ]
    }
   ],
   "source": [
    "#compare two string\n",
    "import string\n",
    "\n",
    "\n",
    "str1 =\"my name is avi\"\n",
    "str2 = \"my name is avi\"\n",
    "\n",
    "res = str1 == str2\n",
    "\n",
    "print(res)\n"
   ]
  },
  {
   "cell_type": "code",
   "execution_count": 53,
   "metadata": {},
   "outputs": [
    {
     "name": "stdout",
     "output_type": "stream",
     "text": [
      "3\n"
     ]
    }
   ],
   "source": [
    "# find occurance of sub string\n",
    "strings = 'natasha likes python lies python'\n",
    "pattern = 'natashalikespython'\n",
    "\n",
    "\n",
    "\n",
    "print(strings.count(\"n\"))\n"
   ]
  },
  {
   "cell_type": "code",
   "execution_count": 56,
   "metadata": {},
   "outputs": [
    {
     "name": "stdout",
     "output_type": "stream",
     "text": [
      "[8, 22]\n"
     ]
    }
   ],
   "source": [
    "#occurance of string with position or index\n",
    "\n",
    "name = \"my name is avi and he is avi\"\n",
    "j = []\n",
    "for i in range(len(name)):\n",
    "    if(name.startswith(\"is\",i)):\n",
    "        j.append(i)\n",
    "print(j)"
   ]
  },
  {
   "cell_type": "code",
   "execution_count": 62,
   "metadata": {},
   "outputs": [
    {
     "name": "stdout",
     "output_type": "stream",
     "text": [
      "LearningISaCONSTANTprocessOFdiscovery\n"
     ]
    }
   ],
   "source": [
    "#lower strinf\n",
    "\n",
    "txt = 'Learning is a constant process of discovery'\n",
    "new_txt = txt.split()\n",
    "fin_str =\"\"\n",
    "for i in range(len(new_txt)):\n",
    "    if( i % 2 == 1 ):\n",
    "        new_txt[i]=new_txt[i].upper()\n",
    "    fin_str +=new_txt[i]\n",
    "print(fin_str)"
   ]
  },
  {
   "cell_type": "code",
   "execution_count": 64,
   "metadata": {},
   "outputs": [
    {
     "name": "stdout",
     "output_type": "stream",
     "text": [
      "5\n"
     ]
    }
   ],
   "source": [
    "#count vovoules\n",
    "\n",
    "string = \"bcdefghAijklmnopqrstuvwxyz\"\n",
    "\n",
    "count =0\n",
    "vov = \"aeiouAEIOU\"\n",
    "\n",
    "for char in string:\n",
    "    if char  in vov:\n",
    "        count = count +1\n",
    "\n",
    "print(count)\n",
    "\n",
    "\n",
    "\n",
    "\n",
    "\n"
   ]
  },
  {
   "cell_type": "code",
   "execution_count": 80,
   "metadata": {},
   "outputs": [
    {
     "name": "stdout",
     "output_type": "stream",
     "text": [
      "{'A': 'One', ' B': ' Two', ' C': ' Three', ' D': ' Four'}\n"
     ]
    }
   ],
   "source": [
    "#string to dict \n",
    "\n",
    "\n",
    "name = 'One, Two, Three, Four'\n",
    "val = 'A, B, C, D'\n",
    "\n",
    "n_val = val.split(\",\")\n",
    "n_name = name.split(',')\n",
    "dicts ={}\n",
    "\n",
    "for i in range(len(n_val)):\n",
    "    dicts[n_val[i]] = n_name[i]\n",
    "print(dicts)\n",
    "\n"
   ]
  },
  {
   "cell_type": "code",
   "execution_count": 82,
   "metadata": {},
   "outputs": [
    {
     "name": "stdout",
     "output_type": "stream",
     "text": [
      "['abc', ' ', '  ', 'def', '  ', ' ', 'ghi']\n"
     ]
    }
   ],
   "source": [
    "\n",
    "string = ['abc', ' ', '  ', 'def', '  ', ' ', 'ghi'] \n",
    "print(str(string))"
   ]
  },
  {
   "cell_type": "code",
   "execution_count": 90,
   "metadata": {},
   "outputs": [
    {
     "ename": "NameError",
     "evalue": "name 'lion' is not defined",
     "output_type": "error",
     "traceback": [
      "\u001b[0;31m---------------------------------------------------------------------------\u001b[0m",
      "\u001b[0;31mNameError\u001b[0m                                 Traceback (most recent call last)",
      "\u001b[0;32m/tmp/ipykernel_63850/2468276751.py\u001b[0m in \u001b[0;36m<module>\u001b[0;34m\u001b[0m\n\u001b[1;32m     22\u001b[0m \u001b[0;34m\u001b[0m\u001b[0m\n\u001b[1;32m     23\u001b[0m \u001b[0;31m#Create a list containing all the variables\u001b[0m\u001b[0;34m\u001b[0m\u001b[0;34m\u001b[0m\u001b[0;34m\u001b[0m\u001b[0m\n\u001b[0;32m---> 24\u001b[0;31m \u001b[0mlist\u001b[0m \u001b[0;34m=\u001b[0m \u001b[0;34m[\u001b[0m\u001b[0mcamel\u001b[0m\u001b[0;34m,\u001b[0m \u001b[0mlion\u001b[0m\u001b[0;34m,\u001b[0m \u001b[0mdeer\u001b[0m\u001b[0;34m,\u001b[0m \u001b[0mgoose\u001b[0m\u001b[0;34m,\u001b[0m \u001b[0mbat\u001b[0m\u001b[0;34m,\u001b[0m \u001b[0mrabbit\u001b[0m\u001b[0;34m]\u001b[0m\u001b[0;34m\u001b[0m\u001b[0;34m\u001b[0m\u001b[0m\n\u001b[0m\u001b[1;32m     25\u001b[0m \u001b[0;31m#Create a while loop that asks the user to select a variable and prints the contents of the variable\u001b[0m\u001b[0;34m\u001b[0m\u001b[0;34m\u001b[0m\u001b[0;34m\u001b[0m\u001b[0m\n\u001b[1;32m     26\u001b[0m \u001b[0;32mwhile\u001b[0m \u001b[0;32mTrue\u001b[0m\u001b[0;34m:\u001b[0m\u001b[0;34m\u001b[0m\u001b[0;34m\u001b[0m\u001b[0m\n",
      "\u001b[0;31mNameError\u001b[0m: name 'lion' is not defined"
     ]
    }
   ],
   "source": [
    "#Create ACSII art and assign it to a variable\n",
    "camel = r\"\"\"\n",
    "Switching on the camera in the camel habitat...\n",
    " ___.-''''-.\n",
    "/___  @    |\n",
    "',,,,.     |         _.'''''''._\n",
    "     '     |        /           \\\n",
    "     |     \\    _.-'             \\\n",
    "     |      '.-'                  '-.\n",
    "     |                               ',\n",
    "     |                                '',\n",
    "      ',,-,                           ':;\n",
    "           ',,| ;,,                 ,' ;;\n",
    "              ! ; !'',,,',',,,,'!  ;   ;:\n",
    "             : ;  ! !       ! ! ;  ;   :;\n",
    "             ; ;   ! !      ! !  ; ;   ;,\n",
    "            ; ;    ! !     ! !   ; ;\n",
    "            ; ;    ! !    ! !     ; ;\n",
    "           ;,,      !,!   !,!     ;,;\n",
    "           /_I      L_I   L_I     /_I\n",
    "Look at that! Our little camel is sunbathing!\"\"\"\n",
    "\n",
    "#Create a list containing all the variables\n",
    "list = [camel, lion, deer, goose, bat, rabbit]\n",
    "#Create a while loop that asks the user to select a variable and prints the contents of the variable\n",
    "while True:\n",
    "    habitat = input('Please enter the number of the habitat you would like to view: ')\n",
    "\n",
    "\n",
    "    if habitat != 'exit':\n",
    "        habitat = int(habitat)\n",
    "        view: str = list[habitat]\n",
    "        print(view)\n",
    "\n",
    "    else:\n",
    "        print(\"See you later!\")\n",
    "        break"
   ]
  },
  {
   "cell_type": "code",
   "execution_count": 101,
   "metadata": {},
   "outputs": [
    {
     "name": "stdout",
     "output_type": "stream",
     "text": [
      "25\n",
      "000001234\n"
     ]
    }
   ],
   "source": [
    "import string\n",
    "string1 = 'This is a string is jjdd is'\n",
    "\n",
    "res = string1.rfind('is')\n",
    "print(res)\n",
    "\n",
    "txt = \"1234\"\n",
    "print(txt.zfill(9))"
   ]
  },
  {
   "cell_type": "code",
   "execution_count": 106,
   "metadata": {},
   "outputs": [
    {
     "name": "stdout",
     "output_type": "stream",
     "text": [
      "y\n"
     ]
    }
   ],
   "source": [
    "import keyword\n",
    "\n",
    "txt = \"True\"\n",
    "if txt in keyword.kwlist:\n",
    "    print(\"y\")\n",
    "else:\n",
    "    print('n')\n"
   ]
  },
  {
   "cell_type": "code",
   "execution_count": 115,
   "metadata": {},
   "outputs": [
    {
     "name": "stdout",
     "output_type": "stream",
     "text": [
      "['two', 'three']\n"
     ]
    }
   ],
   "source": [
    "lis1 = [\"one\",\"two\",\"three\"]\n",
    "lis2 = [\"four\",\"five\"]\n",
    "\n",
    "lis3 = [1,2,3]\n",
    "\n",
    "lis4 = [1,2,3]\n",
    "lis1.remove(\"one\")\n",
    "\n",
    "print(lis1)"
   ]
  },
  {
   "cell_type": "code",
   "execution_count": 133,
   "metadata": {},
   "outputs": [
    {
     "name": "stdout",
     "output_type": "stream",
     "text": [
      "['# pyhon_stuff\\n', 'Abi\\n', 'lkndjndjw jennewnncon\\n', ' ajcwejnw']\n"
     ]
    }
   ],
   "source": [
    "#read file\n",
    "\n",
    "myfile = open(\"README.md\",\"r\")\n",
    "d = myfile.readlines()\n",
    "print(d)\n"
   ]
  },
  {
   "cell_type": "code",
   "execution_count": 136,
   "metadata": {},
   "outputs": [
    {
     "name": "stdout",
     "output_type": "stream",
     "text": [
      "# pyhon_stuff\n",
      "Abi\n",
      "lkndjndjw jennewnncon\n",
      " ajcwejnw\n"
     ]
    }
   ],
   "source": [
    "with open(\"README.md\") as my_fi:\n",
    "    print(my_fi.read())\n",
    "    "
   ]
  },
  {
   "cell_type": "code",
   "execution_count": null,
   "metadata": {},
   "outputs": [],
   "source": []
  }
 ],
 "metadata": {
  "kernelspec": {
   "display_name": "Python 3.8.10 64-bit",
   "language": "python",
   "name": "python3"
  },
  "language_info": {
   "codemirror_mode": {
    "name": "ipython",
    "version": 3
   },
   "file_extension": ".py",
   "mimetype": "text/x-python",
   "name": "python",
   "nbconvert_exporter": "python",
   "pygments_lexer": "ipython3",
   "version": "3.8.10"
  },
  "orig_nbformat": 4,
  "vscode": {
   "interpreter": {
    "hash": "916dbcbb3f70747c44a77c7bcd40155683ae19c65e1c03b4aa3499c5328201f1"
   }
  }
 },
 "nbformat": 4,
 "nbformat_minor": 2
}
